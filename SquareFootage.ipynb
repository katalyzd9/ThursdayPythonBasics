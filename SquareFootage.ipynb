{
 "cells": [
  {
   "cell_type": "code",
   "execution_count": 4,
   "id": "ed3260c6-610f-406f-877a-4ca15f365eb2",
   "metadata": {},
   "outputs": [],
   "source": [
    "def squareFoot():\n",
    "\n",
    "    width = float(input('Enter the Width of the house: '))\n",
    "    length = float(input('Enter the length of the house: '))\n",
    "\n",
    "    Area = length * width\n",
    "\n",
    "    print(\"The house's square footage is \" + str(area))\n",
    "    return(print)"
   ]
  },
  {
   "cell_type": "code",
   "execution_count": null,
   "id": "5aa4bad9-5eb2-4ca7-a1bb-8e445bc45e76",
   "metadata": {},
   "outputs": [],
   "source": []
  }
 ],
 "metadata": {
  "kernelspec": {
   "display_name": "Python 3 (ipykernel)",
   "language": "python",
   "name": "python3"
  },
  "language_info": {
   "codemirror_mode": {
    "name": "ipython",
    "version": 3
   },
   "file_extension": ".py",
   "mimetype": "text/x-python",
   "name": "python",
   "nbconvert_exporter": "python",
   "pygments_lexer": "ipython3",
   "version": "3.9.13"
  }
 },
 "nbformat": 4,
 "nbformat_minor": 5
}
